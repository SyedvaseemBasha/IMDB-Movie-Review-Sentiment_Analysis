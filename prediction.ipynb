{
 "cells": [
  {
   "cell_type": "code",
   "execution_count": 9,
   "metadata": {},
   "outputs": [],
   "source": [
    "#Step 1: Import Libraries and Load the model\n",
    "\n",
    "import numpy as np\n",
    "import tensorflow as tf\n",
    "from tensorflow.keras.datasets import imdb\n",
    "from tensorflow.keras.preprocessing import sequence\n",
    "from tensorflow.keras.models import load_model"
   ]
  },
  {
   "cell_type": "code",
   "execution_count": 10,
   "metadata": {},
   "outputs": [],
   "source": [
    "# Load the IMDM DATASET word index\n",
    " \n",
    "word_index = imdb.get_word_index()\n",
    "reverse_word_index = {(value, key) for key, value in word_index.items()}\n"
   ]
  },
  {
   "cell_type": "code",
   "execution_count": 11,
   "metadata": {},
   "outputs": [
    {
     "name": "stderr",
     "output_type": "stream",
     "text": [
      "WARNING:absl:Compiled the loaded model, but the compiled metrics have yet to be built. `model.compile_metrics` will be empty until you train or evaluate the model.\n"
     ]
    },
    {
     "data": {
      "text/html": [
       "<pre style=\"white-space:pre;overflow-x:auto;line-height:normal;font-family:Menlo,'DejaVu Sans Mono',consolas,'Courier New',monospace\"><span style=\"font-weight: bold\">Model: \"sequential\"</span>\n",
       "</pre>\n"
      ],
      "text/plain": [
       "\u001b[1mModel: \"sequential\"\u001b[0m\n"
      ]
     },
     "metadata": {},
     "output_type": "display_data"
    },
    {
     "data": {
      "text/html": [
       "<pre style=\"white-space:pre;overflow-x:auto;line-height:normal;font-family:Menlo,'DejaVu Sans Mono',consolas,'Courier New',monospace\">┏━━━━━━━━━━━━━━━━━━━━━━━━━━━━━━━━━┳━━━━━━━━━━━━━━━━━━━━━━━━┳━━━━━━━━━━━━━━━┓\n",
       "┃<span style=\"font-weight: bold\"> Layer (type)                    </span>┃<span style=\"font-weight: bold\"> Output Shape           </span>┃<span style=\"font-weight: bold\">       Param # </span>┃\n",
       "┡━━━━━━━━━━━━━━━━━━━━━━━━━━━━━━━━━╇━━━━━━━━━━━━━━━━━━━━━━━━╇━━━━━━━━━━━━━━━┩\n",
       "│ embedding (<span style=\"color: #0087ff; text-decoration-color: #0087ff\">Embedding</span>)           │ (<span style=\"color: #00af00; text-decoration-color: #00af00\">32</span>, <span style=\"color: #00af00; text-decoration-color: #00af00\">500</span>, <span style=\"color: #00af00; text-decoration-color: #00af00\">128</span>)         │     <span style=\"color: #00af00; text-decoration-color: #00af00\">1,280,000</span> │\n",
       "├─────────────────────────────────┼────────────────────────┼───────────────┤\n",
       "│ simple_rnn (<span style=\"color: #0087ff; text-decoration-color: #0087ff\">SimpleRNN</span>)          │ (<span style=\"color: #00af00; text-decoration-color: #00af00\">32</span>, <span style=\"color: #00af00; text-decoration-color: #00af00\">128</span>)              │        <span style=\"color: #00af00; text-decoration-color: #00af00\">32,896</span> │\n",
       "├─────────────────────────────────┼────────────────────────┼───────────────┤\n",
       "│ dense (<span style=\"color: #0087ff; text-decoration-color: #0087ff\">Dense</span>)                   │ (<span style=\"color: #00af00; text-decoration-color: #00af00\">32</span>, <span style=\"color: #00af00; text-decoration-color: #00af00\">1</span>)                │           <span style=\"color: #00af00; text-decoration-color: #00af00\">129</span> │\n",
       "└─────────────────────────────────┴────────────────────────┴───────────────┘\n",
       "</pre>\n"
      ],
      "text/plain": [
       "┏━━━━━━━━━━━━━━━━━━━━━━━━━━━━━━━━━┳━━━━━━━━━━━━━━━━━━━━━━━━┳━━━━━━━━━━━━━━━┓\n",
       "┃\u001b[1m \u001b[0m\u001b[1mLayer (type)                   \u001b[0m\u001b[1m \u001b[0m┃\u001b[1m \u001b[0m\u001b[1mOutput Shape          \u001b[0m\u001b[1m \u001b[0m┃\u001b[1m \u001b[0m\u001b[1m      Param #\u001b[0m\u001b[1m \u001b[0m┃\n",
       "┡━━━━━━━━━━━━━━━━━━━━━━━━━━━━━━━━━╇━━━━━━━━━━━━━━━━━━━━━━━━╇━━━━━━━━━━━━━━━┩\n",
       "│ embedding (\u001b[38;5;33mEmbedding\u001b[0m)           │ (\u001b[38;5;34m32\u001b[0m, \u001b[38;5;34m500\u001b[0m, \u001b[38;5;34m128\u001b[0m)         │     \u001b[38;5;34m1,280,000\u001b[0m │\n",
       "├─────────────────────────────────┼────────────────────────┼───────────────┤\n",
       "│ simple_rnn (\u001b[38;5;33mSimpleRNN\u001b[0m)          │ (\u001b[38;5;34m32\u001b[0m, \u001b[38;5;34m128\u001b[0m)              │        \u001b[38;5;34m32,896\u001b[0m │\n",
       "├─────────────────────────────────┼────────────────────────┼───────────────┤\n",
       "│ dense (\u001b[38;5;33mDense\u001b[0m)                   │ (\u001b[38;5;34m32\u001b[0m, \u001b[38;5;34m1\u001b[0m)                │           \u001b[38;5;34m129\u001b[0m │\n",
       "└─────────────────────────────────┴────────────────────────┴───────────────┘\n"
      ]
     },
     "metadata": {},
     "output_type": "display_data"
    },
    {
     "data": {
      "text/html": [
       "<pre style=\"white-space:pre;overflow-x:auto;line-height:normal;font-family:Menlo,'DejaVu Sans Mono',consolas,'Courier New',monospace\"><span style=\"font-weight: bold\"> Total params: </span><span style=\"color: #00af00; text-decoration-color: #00af00\">1,313,027</span> (5.01 MB)\n",
       "</pre>\n"
      ],
      "text/plain": [
       "\u001b[1m Total params: \u001b[0m\u001b[38;5;34m1,313,027\u001b[0m (5.01 MB)\n"
      ]
     },
     "metadata": {},
     "output_type": "display_data"
    },
    {
     "data": {
      "text/html": [
       "<pre style=\"white-space:pre;overflow-x:auto;line-height:normal;font-family:Menlo,'DejaVu Sans Mono',consolas,'Courier New',monospace\"><span style=\"font-weight: bold\"> Trainable params: </span><span style=\"color: #00af00; text-decoration-color: #00af00\">1,313,025</span> (5.01 MB)\n",
       "</pre>\n"
      ],
      "text/plain": [
       "\u001b[1m Trainable params: \u001b[0m\u001b[38;5;34m1,313,025\u001b[0m (5.01 MB)\n"
      ]
     },
     "metadata": {},
     "output_type": "display_data"
    },
    {
     "data": {
      "text/html": [
       "<pre style=\"white-space:pre;overflow-x:auto;line-height:normal;font-family:Menlo,'DejaVu Sans Mono',consolas,'Courier New',monospace\"><span style=\"font-weight: bold\"> Non-trainable params: </span><span style=\"color: #00af00; text-decoration-color: #00af00\">0</span> (0.00 B)\n",
       "</pre>\n"
      ],
      "text/plain": [
       "\u001b[1m Non-trainable params: \u001b[0m\u001b[38;5;34m0\u001b[0m (0.00 B)\n"
      ]
     },
     "metadata": {},
     "output_type": "display_data"
    },
    {
     "data": {
      "text/html": [
       "<pre style=\"white-space:pre;overflow-x:auto;line-height:normal;font-family:Menlo,'DejaVu Sans Mono',consolas,'Courier New',monospace\"><span style=\"font-weight: bold\"> Optimizer params: </span><span style=\"color: #00af00; text-decoration-color: #00af00\">2</span> (12.00 B)\n",
       "</pre>\n"
      ],
      "text/plain": [
       "\u001b[1m Optimizer params: \u001b[0m\u001b[38;5;34m2\u001b[0m (12.00 B)\n"
      ]
     },
     "metadata": {},
     "output_type": "display_data"
    }
   ],
   "source": [
    "# Load the pre-trained model with ReLU activation\n",
    "model = load_model('imdb_simple_rnn_model.h5')\n",
    "model.summary()"
   ]
  },
  {
   "cell_type": "code",
   "execution_count": 12,
   "metadata": {},
   "outputs": [
    {
     "data": {
      "text/plain": [
       "[array([[ 2.9225491e-02,  2.6600215e-01, -9.7746745e-02, ...,\n",
       "          3.3546141e-01, -3.2079670e-01, -1.9763966e-01],\n",
       "        [ 2.8307848e-02,  3.3352473e-03, -8.1540542e-03, ...,\n",
       "          8.0722980e-02, -5.3269956e-02,  4.6803397e-03],\n",
       "        [-4.0431162e-03, -1.1377585e-02,  1.2004019e-01, ...,\n",
       "         -5.1465267e-03,  1.6950658e-02, -5.6780204e-02],\n",
       "        ...,\n",
       "        [-3.0977890e-02, -7.7903330e-02,  2.7163507e-02, ...,\n",
       "          1.6964791e-02, -3.1070264e-02,  4.8335914e-02],\n",
       "        [ 3.2115929e-02, -2.0436129e-02, -2.3250096e-02, ...,\n",
       "         -2.4831826e-02, -1.4341647e-02,  9.2103593e-02],\n",
       "        [-2.1258056e-02, -2.6794631e-02,  8.3423264e-02, ...,\n",
       "         -3.1819713e-04,  6.6395244e-03,  5.7732023e-02]], dtype=float32),\n",
       " array([[-0.09096333, -0.08377794, -0.19360016, ..., -0.14883988,\n",
       "         -0.08746751, -0.15906909],\n",
       "        [ 0.08648045,  0.09985282,  0.10839948, ...,  0.11547871,\n",
       "         -0.1438284 , -0.00622937],\n",
       "        [-0.02229416,  0.11609351,  0.05718055, ..., -0.09963649,\n",
       "         -0.10327776, -0.01693675],\n",
       "        ...,\n",
       "        [-0.0056445 ,  0.14954717,  0.01222121, ..., -0.04461446,\n",
       "          0.07413284,  0.15553889],\n",
       "        [-0.07287239, -0.11984384, -0.1046831 , ...,  0.01463872,\n",
       "         -0.04067228, -0.07730486],\n",
       "        [ 0.1494596 , -0.05289486, -0.01321349, ..., -0.0150362 ,\n",
       "         -0.04563789,  0.07279   ]], dtype=float32),\n",
       " array([[ 0.07573895, -0.08516129, -0.15295577, ...,  0.09634517,\n",
       "          0.13408343, -0.07619978],\n",
       "        [ 0.03391477,  0.06715317,  0.1952117 , ...,  0.06097415,\n",
       "         -0.13030922,  0.11632435],\n",
       "        [ 0.05301145,  0.11323574, -0.02433739, ..., -0.01645736,\n",
       "          0.01918053,  0.0779708 ],\n",
       "        ...,\n",
       "        [-0.04006726, -0.00053414, -0.00474028, ..., -0.20074956,\n",
       "         -0.0790537 ,  0.13190359],\n",
       "        [ 0.09419429, -0.10173126,  0.09367321, ..., -0.08318151,\n",
       "         -0.0268589 , -0.02651788],\n",
       "        [ 0.01516949, -0.08498507, -0.07736094, ...,  0.10250355,\n",
       "         -0.05011329, -0.05612605]], dtype=float32),\n",
       " array([ 0.00088744,  0.00262993, -0.01151553, -0.00935466, -0.02008531,\n",
       "        -0.01737484,  0.02459221,  0.00077357, -0.0206105 , -0.01789174,\n",
       "        -0.00812927, -0.02290702, -0.01763089,  0.01067479,  0.00419973,\n",
       "        -0.01569026, -0.01125124, -0.00262115, -0.00352416, -0.02118636,\n",
       "        -0.02711644, -0.0355544 , -0.03696344, -0.01245692, -0.01311598,\n",
       "        -0.03433104, -0.05419318,  0.02867859, -0.0084189 ,  0.01459014,\n",
       "         0.00529746,  0.0087996 ,  0.00280319, -0.01211064, -0.00646304,\n",
       "        -0.03855518, -0.02981875, -0.00920148, -0.03514362, -0.0287366 ,\n",
       "         0.00305116, -0.02808736, -0.01678687, -0.05418977, -0.02525986,\n",
       "        -0.0041282 , -0.01974608, -0.02899174,  0.02594132, -0.00739288,\n",
       "        -0.00996708, -0.01548008, -0.04162676,  0.01628012,  0.03247865,\n",
       "        -0.02635176, -0.01617837, -0.04080002,  0.01812378,  0.00519495,\n",
       "        -0.02845384,  0.01160713,  0.02651787, -0.01919368, -0.0015465 ,\n",
       "        -0.04326652,  0.06507854, -0.04009955, -0.01238719,  0.01277058,\n",
       "        -0.03549942, -0.04080625,  0.00870717,  0.00879824, -0.00309793,\n",
       "        -0.05305948,  0.00942098,  0.01315002,  0.00358627, -0.04033417,\n",
       "        -0.02218571,  0.01095497,  0.00538635, -0.00918003,  0.00141277,\n",
       "        -0.01635331, -0.04465561, -0.00218477, -0.02697849, -0.0395008 ,\n",
       "        -0.0100115 , -0.0087905 ,  0.0100849 , -0.03005049,  0.01612226,\n",
       "        -0.00504789, -0.02773557, -0.00671207, -0.02771054, -0.02223715,\n",
       "        -0.01737375, -0.02590614, -0.00345243, -0.01292817, -0.0160992 ,\n",
       "        -0.05443902, -0.02890721, -0.02103926, -0.03190699, -0.01630256,\n",
       "        -0.02560698,  0.02367656, -0.00720706, -0.02231873, -0.02338288,\n",
       "        -0.00415592,  0.0099863 ,  0.00706643, -0.00078943, -0.01578471,\n",
       "        -0.01357792, -0.01015785, -0.01187414,  0.00556566,  0.02042337,\n",
       "        -0.03458576, -0.02876365, -0.03585795], dtype=float32),\n",
       " array([[-8.12946558e-02],\n",
       "        [-1.85576215e-01],\n",
       "        [ 1.26608297e-01],\n",
       "        [ 3.52192260e-02],\n",
       "        [-1.58435721e-02],\n",
       "        [-2.57946610e-01],\n",
       "        [ 2.73469299e-01],\n",
       "        [ 1.33527458e-01],\n",
       "        [ 4.98727821e-02],\n",
       "        [ 4.41995524e-02],\n",
       "        [ 2.19677076e-01],\n",
       "        [-2.06186026e-01],\n",
       "        [-1.23288773e-01],\n",
       "        [ 7.95422643e-02],\n",
       "        [ 2.56106496e-01],\n",
       "        [-1.28810033e-01],\n",
       "        [-2.54074425e-01],\n",
       "        [ 5.30826785e-02],\n",
       "        [ 2.49711797e-02],\n",
       "        [ 3.25437076e-02],\n",
       "        [-2.22199336e-01],\n",
       "        [ 9.60532725e-02],\n",
       "        [-9.26562846e-02],\n",
       "        [ 1.99048817e-01],\n",
       "        [-2.12004647e-01],\n",
       "        [-3.58380377e-02],\n",
       "        [-7.17235059e-02],\n",
       "        [ 3.48650694e-01],\n",
       "        [ 5.64415082e-02],\n",
       "        [ 1.91375241e-01],\n",
       "        [-8.70518014e-03],\n",
       "        [ 2.08459079e-01],\n",
       "        [ 1.84898734e-01],\n",
       "        [ 1.09137356e-01],\n",
       "        [ 2.06891537e-01],\n",
       "        [ 1.10329434e-01],\n",
       "        [ 3.13108191e-02],\n",
       "        [ 1.77375108e-01],\n",
       "        [-2.38851160e-01],\n",
       "        [-1.79209128e-01],\n",
       "        [ 2.83334762e-01],\n",
       "        [ 7.37542361e-02],\n",
       "        [-2.33635724e-01],\n",
       "        [ 1.82090566e-01],\n",
       "        [-1.35881618e-01],\n",
       "        [ 1.78422540e-01],\n",
       "        [-1.90541610e-01],\n",
       "        [ 2.02562958e-01],\n",
       "        [ 8.30646157e-02],\n",
       "        [-1.03809059e-01],\n",
       "        [ 1.37988105e-01],\n",
       "        [ 1.67485669e-01],\n",
       "        [-1.98106304e-01],\n",
       "        [-2.15561658e-01],\n",
       "        [-2.03662023e-01],\n",
       "        [ 2.35945225e-01],\n",
       "        [-1.69237763e-01],\n",
       "        [-2.21933857e-01],\n",
       "        [-2.19763219e-01],\n",
       "        [ 1.87815681e-01],\n",
       "        [ 1.09120563e-01],\n",
       "        [-1.19449243e-01],\n",
       "        [ 1.60737842e-01],\n",
       "        [ 7.05349892e-02],\n",
       "        [-2.29455009e-01],\n",
       "        [-5.32393083e-02],\n",
       "        [-4.97906990e-02],\n",
       "        [ 6.26050681e-02],\n",
       "        [-1.27028480e-01],\n",
       "        [-1.62979767e-01],\n",
       "        [-6.36682436e-02],\n",
       "        [-1.70947090e-02],\n",
       "        [ 1.57804504e-01],\n",
       "        [-2.31749773e-01],\n",
       "        [-1.84266970e-01],\n",
       "        [-1.74563006e-01],\n",
       "        [-1.91409037e-01],\n",
       "        [ 1.54955864e-01],\n",
       "        [-8.46190527e-02],\n",
       "        [ 2.38743916e-01],\n",
       "        [-1.50473341e-01],\n",
       "        [-1.10253356e-01],\n",
       "        [-2.00128481e-01],\n",
       "        [-1.16933130e-01],\n",
       "        [ 1.67709693e-01],\n",
       "        [-3.63331676e-01],\n",
       "        [ 6.66898340e-02],\n",
       "        [-5.26797950e-01],\n",
       "        [-6.17239922e-02],\n",
       "        [ 1.19962342e-01],\n",
       "        [-2.38992453e-01],\n",
       "        [-1.67602003e-01],\n",
       "        [-8.37229043e-02],\n",
       "        [-6.54866174e-02],\n",
       "        [ 3.83900851e-01],\n",
       "        [-4.20820713e-01],\n",
       "        [ 8.81663188e-02],\n",
       "        [ 2.06398517e-01],\n",
       "        [-2.74199760e-04],\n",
       "        [-1.69628579e-02],\n",
       "        [-2.92807370e-01],\n",
       "        [-1.44867465e-01],\n",
       "        [ 3.74599665e-01],\n",
       "        [ 3.62351716e-01],\n",
       "        [-5.86954551e-03],\n",
       "        [ 1.06649362e-01],\n",
       "        [ 3.44656268e-03],\n",
       "        [-1.94030955e-01],\n",
       "        [-8.18932578e-02],\n",
       "        [ 2.59247757e-02],\n",
       "        [-3.84544171e-02],\n",
       "        [-2.00633198e-01],\n",
       "        [-1.63741305e-01],\n",
       "        [ 3.43609989e-01],\n",
       "        [-2.04166602e-02],\n",
       "        [ 2.14211509e-01],\n",
       "        [ 2.34904870e-01],\n",
       "        [ 9.65281278e-02],\n",
       "        [ 8.42422545e-02],\n",
       "        [ 4.78282660e-01],\n",
       "        [-2.24757679e-02],\n",
       "        [-2.23200068e-01],\n",
       "        [-8.96697342e-02],\n",
       "        [-2.86806196e-01],\n",
       "        [ 2.27037191e-01],\n",
       "        [-6.29951283e-02],\n",
       "        [ 2.58719712e-01],\n",
       "        [-1.46025270e-01]], dtype=float32),\n",
       " array([-0.13891275], dtype=float32)]"
      ]
     },
     "execution_count": 12,
     "metadata": {},
     "output_type": "execute_result"
    }
   ],
   "source": [
    "model.get_weights()"
   ]
  },
  {
   "cell_type": "code",
   "execution_count": 13,
   "metadata": {},
   "outputs": [],
   "source": [
    "# step 2: Helper Functions\n",
    "# Function to Decode reviews\n",
    "def decode_review(encoded_review):\n",
    "    return ' '.join([reverse_word_index.get(i - 3, '?') for i in encoded_review])\n",
    "\n",
    "#Function to preprocess user input\n",
    "def preprocess_text(text):\n",
    "    words = text.lower().split()\n",
    "    encoded_review = [word_index.get(word,2) + 3 for word in words]\n",
    "    padded_review = sequence.pad_sequences([encoded_review],maxlen=500)\n",
    "    return padded_review"
   ]
  },
  {
   "cell_type": "code",
   "execution_count": 14,
   "metadata": {},
   "outputs": [],
   "source": [
    "# Prediction Review\n",
    "def predict_sentiment(review):\n",
    "     preprocess_input = preprocess_text(review)\n",
    "     prediction = model.predict(preprocess_input)\n",
    "     \n",
    "     sentiment = 'Positive' if prediction[0][0] > 0.5 else 'Negative'\n",
    "\n",
    "     return sentiment, prediction[0][0]"
   ]
  },
  {
   "cell_type": "code",
   "execution_count": 26,
   "metadata": {},
   "outputs": [
    {
     "name": "stdout",
     "output_type": "stream",
     "text": [
      "\u001b[1m1/1\u001b[0m \u001b[32m━━━━━━━━━━━━━━━━━━━━\u001b[0m\u001b[37m\u001b[0m \u001b[1m0s\u001b[0m 72ms/step\n",
      "Review:This movie  was quite bad\n",
      "Sentiment: Negative\n",
      "Prediction Score: 0.36811012029647827\n"
     ]
    }
   ],
   "source": [
    "# Step 4: User Input and Prediction\n",
    "# Example review for prediction\n",
    "example_review =  'This movie  was quite bad'\n",
    "\n",
    "# example_review1 = 'This movie  was  worst'\n",
    "\n",
    "\n",
    "sentiment,score =predict_sentiment(example_review)\n",
    "\n",
    "print(f'Review:{example_review}')\n",
    "print(f'Sentiment: {sentiment}')\n",
    "print(f'Prediction Score: {score}')\n"
   ]
  },
  {
   "cell_type": "code",
   "execution_count": null,
   "metadata": {},
   "outputs": [],
   "source": []
  }
 ],
 "metadata": {
  "kernelspec": {
   "display_name": "rnncl",
   "language": "python",
   "name": "python3"
  },
  "language_info": {
   "codemirror_mode": {
    "name": "ipython",
    "version": 3
   },
   "file_extension": ".py",
   "mimetype": "text/x-python",
   "name": "python",
   "nbconvert_exporter": "python",
   "pygments_lexer": "ipython3",
   "version": "3.11.2"
  }
 },
 "nbformat": 4,
 "nbformat_minor": 2
}
